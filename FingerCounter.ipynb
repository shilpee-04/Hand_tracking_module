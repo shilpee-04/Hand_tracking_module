{
  "nbformat": 4,
  "nbformat_minor": 0,
  "metadata": {
    "colab": {
      "provenance": []
    },
    "kernelspec": {
      "name": "python3",
      "display_name": "Python 3"
    },
    "language_info": {
      "name": "python"
    }
  },
  "cells": [
    {
      "cell_type": "code",
      "execution_count": null,
      "metadata": {
        "id": "du0TaX8l7sgX"
      },
      "outputs": [],
      "source": [
        "import cv2\n",
        "import mediapipe as md\n",
        "import time\n",
        "import HandTrackingModule as hmt\n",
        "\n",
        "wcam,hcam = 640,480\n",
        "\n",
        "cap = cv2.VideoCapture(0)\n",
        "cap.set(3,wcam)\n",
        "cap.set(4,hcam)\n",
        "pTime=0\n",
        "cTime=0\n",
        "\n",
        "detecter = hmt.handDetector()\n",
        "\n",
        "while True:\n",
        "    success,img = cap.read()\n",
        "    img = cv2.flip(img, 1)\n",
        "    detecter.findHands(img,draw=False)\n",
        "    detecter.findPosition(img)\n",
        "\n",
        "    fingers = detecter.fingersUp()\n",
        "    fcount = sum(fingers)\n",
        "\n",
        "    if len(fingers)!=0:\n",
        "        cv2.putText(img, f'FingersUp: {fcount}', (5, 70), cv2.FONT_HERSHEY_COMPLEX, 1, (255, 0, 0),1)\n",
        "        if fingers[0]:\n",
        "            cv2.putText(img, f'Thumb: Up', (5, 110), cv2.FONT_HERSHEY_COMPLEX, 1, (0, 0, 255), 1)\n",
        "        else :\n",
        "            cv2.putText(img, f'Thumb: Down', (5, 110), cv2.FONT_HERSHEY_COMPLEX, 1, (0, 0, 255), 1)\n",
        "        if fingers[1]:\n",
        "            cv2.putText(img, f'Index F: Up', (5, 150), cv2.FONT_HERSHEY_COMPLEX, 1, (0, 0, 255), 1)\n",
        "        else :\n",
        "            cv2.putText(img, f'Index F: Down', (5, 150), cv2.FONT_HERSHEY_COMPLEX, 1, (0, 0, 255), 1)\n",
        "        if fingers[2]:\n",
        "            cv2.putText(img, f'Middle F: Up', (5, 190), cv2.FONT_HERSHEY_COMPLEX, 1, (0, 0, 255), 1)\n",
        "        else :\n",
        "            cv2.putText(img, f'Middle F: Down', (5, 190), cv2.FONT_HERSHEY_COMPLEX, 1, (0, 0, 255), 1)\n",
        "        if fingers[3]:\n",
        "            cv2.putText(img, f'Ring F: Up', (5, 230), cv2.FONT_HERSHEY_COMPLEX, 1, (0, 0, 255), 1)\n",
        "        else :\n",
        "            cv2.putText(img, f'Ring F: Down', (5, 230), cv2.FONT_HERSHEY_COMPLEX, 1, (0, 0, 255), 1)\n",
        "        if fingers[4]:\n",
        "            cv2.putText(img, f'Pinky F: Up', (5, 270), cv2.FONT_HERSHEY_COMPLEX, 1, (0, 0, 255), 1)\n",
        "        else :\n",
        "            cv2.putText(img, f'Pinky F: Down', (5, 270), cv2.FONT_HERSHEY_COMPLEX, 1, (0, 0, 255), 1)\n",
        "\n",
        "    cTime=time.time()\n",
        "    fps = 1/(cTime-pTime)\n",
        "    pTime=cTime\n",
        "\n",
        "    cv2.putText(img,f'FPS: {int(fps)}',(5,30),cv2.FONT_HERSHEY_COMPLEX,1,(0,255,0),1)\n",
        "\n",
        "    cv2.imshow(\"Img\",img)\n",
        "    cv2.waitKey(1)"
      ]
    }
  ]
}